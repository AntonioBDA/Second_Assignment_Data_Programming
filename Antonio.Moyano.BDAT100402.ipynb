{
 "cells": [
  {
   "cell_type": "markdown",
   "id": "04bcdab8-fb66-4486-b9e8-5ce31dd49467",
   "metadata": {},
   "source": [
    "<h2> Question 1 </h2>\n",
    "Consider the following Python module:"
   ]
  },
  {
   "cell_type": "code",
   "execution_count": 1,
   "id": "8c1fdb05-4a49-4618-bedd-ec23b5ad72c6",
   "metadata": {},
   "outputs": [],
   "source": [
    "a = 0\n",
    "def b():\n",
    "    global a\n",
    "    a = c(a)\n",
    "    \n",
    "def c(a):\n",
    "    return a+2"
   ]
  },
  {
   "cell_type": "code",
   "execution_count": 2,
   "id": "1858f4f2-ba56-48e9-ae59-60cc754663e8",
   "metadata": {},
   "outputs": [],
   "source": [
    "b()"
   ]
  },
  {
   "cell_type": "code",
   "execution_count": 3,
   "id": "83166475-edb6-4ba9-9a31-d3f20070bd4c",
   "metadata": {},
   "outputs": [],
   "source": [
    "b()"
   ]
  },
  {
   "cell_type": "code",
   "execution_count": 4,
   "id": "5713c8d5-07a8-44c0-be11-946b9becc808",
   "metadata": {},
   "outputs": [],
   "source": [
    "b()"
   ]
  },
  {
   "cell_type": "code",
   "execution_count": 5,
   "id": "b76a8379-b2b7-4b3e-97d0-5e880213e71b",
   "metadata": {},
   "outputs": [
    {
     "data": {
      "text/plain": [
       "6"
      ]
     },
     "execution_count": 5,
     "metadata": {},
     "output_type": "execute_result"
    }
   ],
   "source": [
    "a"
   ]
  },
  {
   "cell_type": "markdown",
   "id": "43ec96ea-f5c0-4946-998c-7bf6e94a7401",
   "metadata": {},
   "source": [
    "When you execute the function b, this one refers to the global a and save the value, c function doesn't do that but it has been calling from b.\n",
    "\n",
    "- each time you executes b() function, the global a sums 2"
   ]
  },
  {
   "cell_type": "markdown",
   "id": "abba5425-97b1-4233-af0b-f109767c95e1",
   "metadata": {},
   "source": [
    "<h2> Question 2 </h2>\n",
    "Function fileLength(), given to you, takes the name of a file as input and returns\n",
    "the length of the file.\n",
    "\n",
    "```python\n",
    ">>> fileLength('midterm.py')\n",
    "284\n",
    ">>> fileLength('idterm.py')\n",
    "Traceback (most recent call last):\n",
    "File \"<pyshell#34>\", line 1, in <module>\n",
    "fileLength('idterm.py')\n",
    "File \"/Users/me/midterm.py\", line 3, in fileLength\n",
    "infile = open(filename)\n",
    "FileNotFoundError: [Errno 2] No such file or directory:\n",
    "'idterm.py'\n",
    "```\n",
    "\n",
    "As shown above, if the file cannot be found by the interpreter or if it cannot be read\n",
    "as a text file, an exception will be raised. Modify function fileLength() so that a\n",
    "friendly message is printed instead:\n",
    "\n",
    "```python\n",
    ">>> fileLength('midterm.py')\n",
    "358\n",
    ">>> fileLength('idterm.py')\n",
    "File idterm.py not found.\n",
    "```"
   ]
  },
  {
   "cell_type": "code",
   "execution_count": 8,
   "id": "fc1d029a-e402-4bc9-895e-9944d8d93201",
   "metadata": {},
   "outputs": [],
   "source": [
    "def filelength(filename):\n",
    "    try:\n",
    "        with open(filename) as f:\n",
    "            x = len(fp.readlines())\n",
    "            print(x)\n",
    "    except FileNotFoundError:\n",
    "        print(\"file \" + filename + \" not found\")\n"
   ]
  },
  {
   "cell_type": "code",
   "execution_count": 12,
   "id": "c6db42e0-92f3-44f9-b917-7212f927c815",
   "metadata": {},
   "outputs": [
    {
     "name": "stdout",
     "output_type": "stream",
     "text": [
      "file example.txt not found\n"
     ]
    }
   ],
   "source": [
    "filelength(\"example.txt\")"
   ]
  },
  {
   "cell_type": "markdown",
   "id": "5ee1624b-b6f4-48ab-bb5a-6cf3920304fa",
   "metadata": {},
   "source": [
    "<h2> Question 3 </h2>\n",
    "Write a class named Marsupial that can be used as shown below:\n",
    "\n",
    "```python\n",
    ">>> m = Marsupial()\n",
    ">>> m.put_in_pouch('doll')\n",
    ">>> m.put_in_pouch('firetruck')\n",
    ">>> m.put_in_pouch('kitten')\n",
    ">>> m.pouch_contents()\n",
    "['doll', 'firetruck', 'kitten']\n",
    "```\n",
    "Now write a class named Kangaroo as a subclass of Marsupial that inherits all the\n",
    "attributes of Marsupial and also:\n",
    "\n",
    "a. extends the Marsupial __init__ constructor to take, as input, the\n",
    "coordinates x and y of the Kangaroo object,\n",
    "\n",
    "b. supports method jump that takes number values dx and dy as input and\n",
    "moves the kangaroo by dx units along the x-axis and by dy units along the y-\n",
    "axis, and\n",
    "\n",
    "c. overloads the __str__ operator so it behaves as shown below.\n",
    "\n",
    "```python\n",
    ">>> k = Kangaroo(0,0)\n",
    ">>> print(k)\n",
    "I am a Kangaroo located at coordinates (0,0)\n",
    ">>> k.put_in_pouch('doll')\n",
    ">>> k.put_in_pouch('firetruck')\n",
    ">>> k.put_in_pouch('kitten')\n",
    ">>> k.pouch_contents()\n",
    "['doll', 'firetruck', 'kitten']\n",
    ">>> k.jump(1,0)\n",
    ">>> k.jump(1,0)\n",
    ">>> k.jump(1,0)\n",
    ">>> print(k)\n",
    "I am a Kangaroo located at coordinates (3,0)\n",
    "```\n"
   ]
  },
  {
   "cell_type": "code",
   "execution_count": 1,
   "id": "ff774156-7f51-4b37-b002-778fe7cff710",
   "metadata": {},
   "outputs": [],
   "source": [
    "class Marsupial:\n",
    "    \n",
    "    def __init__(self):\n",
    "        self.pouch = []\n",
    "\n",
    "    def put_in_pouch(self, value):\n",
    "        'add an object to the list'\n",
    "        self.pouch.append(value)\n",
    "    def pouch_contents(self):\n",
    "        'show the things in the pouch'\n",
    "        return self.pouch\n",
    "        \n"
   ]
  },
  {
   "cell_type": "code",
   "execution_count": 58,
   "id": "fde33855-3656-48f2-97b7-e8db112a5883",
   "metadata": {},
   "outputs": [
    {
     "data": {
      "text/plain": [
       "['doll', 'firetruck', 'kitten']"
      ]
     },
     "execution_count": 58,
     "metadata": {},
     "output_type": "execute_result"
    }
   ],
   "source": [
    "m = Marsupial()\n",
    "m.put_in_pouch('doll')\n",
    "m.put_in_pouch('firetruck')\n",
    "m.put_in_pouch('kitten')\n",
    "m.pouch_contents()"
   ]
  },
  {
   "cell_type": "code",
   "execution_count": 17,
   "id": "b8da17ed-5936-4c75-b691-326ac653412f",
   "metadata": {},
   "outputs": [],
   "source": [
    "class Kangaroo(Marsupial):\n",
    "    def __init__(self, xcoord=0, ycoord=0):\n",
    "        self.pouch = []\n",
    "        self.x = xcoord\n",
    "        self.y = ycoord\n",
    "        \n",
    "    def __str__(self):\n",
    "        return (\"I am a kangaroo located at coordinates (\" + str(self.x) +\", \"+ str(self.y) +\")\")\n",
    "    \n",
    "    def jump(self, dx, dy):\n",
    "        self.x += dx\n",
    "        self.y += dy\n",
    "        "
   ]
  },
  {
   "cell_type": "code",
   "execution_count": 20,
   "id": "09b64ec9-262d-46e5-8846-d7d6d52c1e2c",
   "metadata": {},
   "outputs": [
    {
     "name": "stdout",
     "output_type": "stream",
     "text": [
      "I am a kangaroo located at coordinates (0, 0)\n",
      "I am a kangaroo located at coordinates (2, 0)\n"
     ]
    }
   ],
   "source": [
    "k = Kangaroo(0,0)\n",
    "print(k)\n",
    "k.put_in_pouch(\"Dog\")\n",
    "k.pouch_contents()\n",
    "k.jump(1,0)\n",
    "k.jump(1,0)\n",
    "print(k)"
   ]
  },
  {
   "cell_type": "markdown",
   "id": "f79b01a8-1a57-47bb-94c1-50fd99242f3a",
   "metadata": {},
   "source": [
    "<h2> Question 4 </h2>\n",
    "\n",
    "Write function *collatz()* that takes a positive integer x as input and prints the\n",
    "Collatz sequence starting at x. A Collatz sequence is obtained by repeatedly applying\n",
    "this rule to the previous number x in the sequence:\n",
    "\n",
    "$$ x=   \\left\\{\n",
    "\\begin{array}{ll}\n",
    "      \\frac{x}{2} & 𝑖𝑓 𝑥 𝑖𝑠 𝑒𝑣𝑒𝑛 \\\\\n",
    "      3𝑥+1 & 𝑖𝑓 𝑥 𝑖𝑠 𝑜𝑑𝑑\\\\\n",
    "\\end{array} \n",
    "\\right.  $$ \n",
    "Your function should stop when the sequence gets to number 1. Your\n",
    "implementation must be recursive, without any loops."
   ]
  },
  {
   "cell_type": "code",
   "execution_count": 34,
   "id": "18993b0b-c8ed-4547-98e5-281766eb5f12",
   "metadata": {},
   "outputs": [],
   "source": [
    "def collatz(x):\n",
    "    print(x)\n",
    "    if (x != 1):\n",
    "        if (x % 2 == 0):\n",
    "            collatz(x/2)\n",
    "        else:\n",
    "            collatz(3*x+1)"
   ]
  },
  {
   "cell_type": "code",
   "execution_count": 37,
   "id": "590c4fe8-3791-4fa5-93ec-77ed6f7d9647",
   "metadata": {},
   "outputs": [
    {
     "name": "stdout",
     "output_type": "stream",
     "text": [
      "10\n",
      "5.0\n",
      "16.0\n",
      "8.0\n",
      "4.0\n",
      "2.0\n",
      "1.0\n"
     ]
    }
   ],
   "source": [
    "collatz(10)"
   ]
  },
  {
   "cell_type": "markdown",
   "id": "f103a7b5-ea89-4185-9f9b-5834339b131d",
   "metadata": {},
   "source": [
    "<h2> Question 5 </h2>\n",
    "Write a recursive method binary() that takes a non-negative\n",
    "integer n and prints the binary representation of integer n."
   ]
  },
  {
   "cell_type": "code",
   "execution_count": 88,
   "id": "7a94e775-d97e-4aaa-85d0-5809ad137d14",
   "metadata": {},
   "outputs": [],
   "source": [
    "def binary(b):\n",
    "    value = \"\"\n",
    "    if b < 2:\n",
    "        value += str(b)\n",
    "    else:\n",
    "        binary(b//2)\n",
    "        value += str(b%2)    \n",
    "    print(value, end =\"\")"
   ]
  },
  {
   "cell_type": "code",
   "execution_count": 100,
   "id": "cf1ffec6-41ce-4467-8769-5c74afe92287",
   "metadata": {},
   "outputs": [
    {
     "name": "stdout",
     "output_type": "stream",
     "text": [
      "1001"
     ]
    }
   ],
   "source": [
    "binary(9)"
   ]
  },
  {
   "cell_type": "markdown",
   "id": "6085342e-7d6a-4c18-b0fe-3d1a7d139d42",
   "metadata": {},
   "source": [
    "<h2> Question 6 </h2>\n",
    "Implement a class named HeadingParser that can be used to parse an HTML\n",
    "document, and retrieve and print all the headings in the document. You should\n",
    "implement your class as a subclass of HTMLParser, defined in Standard Library\n",
    "module html.parser. When fed a string containing HTML code, your class should\n",
    "print the headings, one per line and in the order in which they appear in the\n",
    "document. Each heading should be indented as follows: an h1 heading should have indentation 0, and h2 heading should have indentation 1, etc.\n",
    "\n",
    "Test your\n",
    "implementation using w3c.html"
   ]
  },
  {
   "cell_type": "code",
   "execution_count": 63,
   "id": "9201640f-95ee-46ba-b67c-17458f04861f",
   "metadata": {},
   "outputs": [],
   "source": [
    "from html.parser import HTMLParser\n",
    "class HeadingParser(HTMLParser):\n",
    "    \n",
    "    def __init__(self):\n",
    "        HTMLParser.__init__(self)\n",
    "        self.tags=[]\n",
    "\n",
    "    def handle_starttag(self, tag, attrs):\n",
    "        self.tags.append(tag) \n",
    "    def handle_data(self, data):\n",
    "        self.tags.append(data)\n",
    "    def printh(self):\n",
    "        x=self.tags\n",
    "        indent=0\n",
    "        for l in range(len(x)):\n",
    "            if x[l]==\"h1\" or x[l]==\"h2\" or x[l]==\"h3\" or x[l]==\"h4\" or x[l]==\"h5\" or x[l]==\"h6\" or x[l]==\"h7\":\n",
    "                if(x[l]==\"h1\"):\n",
    "                    indent=0\n",
    "                elif(x[l]==\"h2\"):\n",
    "                    indent=1\n",
    "                elif(x[l]==\"h3\"):\n",
    "                    indent=2\n",
    "                elif(x[l]==\"h4\"):\n",
    "                    indent=3\n",
    "                elif(x[l]==\"h5\"):\n",
    "                    indent=4\n",
    "                elif(x[l]==\"h6\"):\n",
    "                    indent=5\n",
    "                elif(x[l]==\"h7\"):\n",
    "                    indent=6\n",
    "                for s in range(indent):\n",
    "                    print(\" \",end=\"\")\n",
    "                print(x[l+1]) "
   ]
  },
  {
   "cell_type": "code",
   "execution_count": 64,
   "id": "d26a2e78-fa3f-400c-82f6-b5b440cb8087",
   "metadata": {},
   "outputs": [
    {
     "name": "stdout",
     "output_type": "stream",
     "text": [
      "W3C Mission\n",
      " Principles\n"
     ]
    }
   ],
   "source": [
    "infile = open('w3c.html')\n",
    "content = infile.read()\n",
    "infile.close()\n",
    "hp = HeadingParser()\n",
    "hp.feed(content)\n",
    "hp.printh()"
   ]
  },
  {
   "cell_type": "markdown",
   "id": "8ac8794e-f481-4939-8668-fe7381f7575c",
   "metadata": {},
   "source": [
    "<h2> Question 7 </h2>\n",
    "Implement recursive function webdir() that takes as input: a URL (as a string) and\n",
    "non-negative integers depth and indent. Your function should visit every web\n",
    "page reachable from the starting URL web page in depth clicks or less, and print\n",
    "each web page's URL. As shown below, indentation, specified by indent, should\n",
    "be used to indicate the depth of a URL"
   ]
  },
  {
   "cell_type": "code",
   "execution_count": 64,
   "id": "617ccc8d-94d6-45e1-baf9-f2dce271d0b6",
   "metadata": {},
   "outputs": [
    {
     "ename": "SyntaxError",
     "evalue": "invalid syntax (Temp/ipykernel_24148/836155201.py, line 1)",
     "output_type": "error",
     "traceback": [
      "\u001b[1;36m  File \u001b[1;32m\"C:\\Users\\anton\\AppData\\Local\\Temp/ipykernel_24148/836155201.py\"\u001b[1;36m, line \u001b[1;32m1\u001b[0m\n\u001b[1;33m    pip install requests\u001b[0m\n\u001b[1;37m        ^\u001b[0m\n\u001b[1;31mSyntaxError\u001b[0m\u001b[1;31m:\u001b[0m invalid syntax\n"
     ]
    }
   ],
   "source": []
  },
  {
   "cell_type": "code",
   "execution_count": null,
   "id": "ada087ca-f3f8-429b-bc69-52b2609cb00b",
   "metadata": {},
   "outputs": [],
   "source": []
  },
  {
   "cell_type": "markdown",
   "id": "a6a6a380-eece-4332-9795-804cf37ea8f9",
   "metadata": {},
   "source": [
    "<h2> Question 8 </h2>\n",
    "Write SQL queries on the below database table that return:\n",
    "\n",
    "a) All the temperature data. <br>\n",
    "b) All the cities, but without repetition.<br>\n",
    "c) All the records for India.<br>\n",
    "d) All the Fall records.<br>\n",
    "e) The city, country, and season for which the average rainfall is between 200\n",
    "and 400 millimeters.<br>\n",
    "f) The city and country for which the average Fall temperature is above 20\n",
    "degrees, in increasing temperature order.<br>\n",
    "g) The total annual rainfall for Cairo.<br>\n",
    "h) The total rainfall for each season."
   ]
  },
  {
   "cell_type": "code",
   "execution_count": 45,
   "id": "d20f5bda-4464-4c37-aea6-936171e0cce5",
   "metadata": {},
   "outputs": [
    {
     "data": {
      "text/plain": [
       "<sqlite3.Cursor at 0x22b0fc1eab0>"
      ]
     },
     "execution_count": 45,
     "metadata": {},
     "output_type": "execute_result"
    }
   ],
   "source": [
    "import sqlite3\n",
    "con = sqlite3.connect(\":memory:\")\n",
    "cur = con.cursor()\n",
    "cur.execute(\"Create TABLE db (City varchar(255), Country varchar(255), Season varchar(255), Temperature float, Rainfall float);\")\n",
    "cur.execute(\"insert into db (City, Country, Season, Temperature, Rainfall) values ('Mumbai','India','Winter','24.8','5.9');\")\n",
    "cur.execute(\"insert into db (City, Country, Season, Temperature, Rainfall) values ('Mumbai','India','Spring','28.4','16.2');\")\n",
    "cur.execute(\"insert into db (City, Country, Season, Temperature, Rainfall) values ('Mumbai','India','Summer','27.9','1549.4');\")\n",
    "cur.execute(\"insert into db (City, Country, Season, Temperature, Rainfall) values ('Mumbai','India','Fall','27.6','346.0');\")\n",
    "cur.execute(\"insert into db (City, Country, Season, Temperature, Rainfall) values ('London','United Kingdom','Winter','4.2','207.7');\")\n",
    "cur.execute(\"insert into db (City, Country, Season, Temperature, Rainfall) values ('London','United Kingdom','Spring','8.3','169.6');\")\n",
    "cur.execute(\"insert into db (City, Country, Season, Temperature, Rainfall) values ('London','United Kingdom','Summer','15.7','157.0');\")\n",
    "cur.execute(\"insert into db (City, Country, Season, Temperature, Rainfall) values ('London','United Kingdom','Fall','10.4','218.5');\")\n",
    "cur.execute(\"insert into db (City, Country, Season, Temperature, Rainfall) values ('Cairo','Egypt','Winter','13.6','16.5');\")\n",
    "cur.execute(\"insert into db (City, Country, Season, Temperature, Rainfall) values ('Cairo','Egypt','Spring','20.7','6.5');\")\n",
    "cur.execute(\"insert into db (City, Country, Season, Temperature, Rainfall) values ('Cairo','Egypt','Summer','27.7','0.1');\")\n",
    "cur.execute(\"insert into db (City, Country, Season, Temperature, Rainfall) values ('Cairo','Egypt','Fall','22.2','4.5');\")\n"
   ]
  },
  {
   "cell_type": "code",
   "execution_count": 46,
   "id": "5a1ced95-d40d-44fc-aa2e-8a41776895bb",
   "metadata": {},
   "outputs": [
    {
     "name": "stdout",
     "output_type": "stream",
     "text": [
      "(4.2,)\n",
      "(8.3,)\n",
      "(10.4,)\n",
      "(13.6,)\n",
      "(15.7,)\n",
      "(20.7,)\n",
      "(22.2,)\n",
      "(24.8,)\n",
      "(27.6,)\n",
      "(27.7,)\n",
      "(27.9,)\n",
      "(28.4,)\n"
     ]
    }
   ],
   "source": [
    "cur.execute('SELECT Temperature FROM db ORDER BY Temperature')\n",
    "\n",
    "for record in cur:\n",
    "    print(record)"
   ]
  },
  {
   "cell_type": "code",
   "execution_count": 47,
   "id": "f119530c-21e5-4f90-a4b2-e7d27c1f5cc6",
   "metadata": {},
   "outputs": [
    {
     "name": "stdout",
     "output_type": "stream",
     "text": [
      "('Mumbai',)\n",
      "('London',)\n",
      "('Cairo',)\n"
     ]
    }
   ],
   "source": [
    "cur.execute('SELECT DISTINCT City FROM db')\n",
    "\n",
    "for record in cur:\n",
    "    print(record)"
   ]
  },
  {
   "cell_type": "code",
   "execution_count": 48,
   "id": "a182e44c-5129-4e30-ab29-96cd875ca6ef",
   "metadata": {},
   "outputs": [
    {
     "name": "stdout",
     "output_type": "stream",
     "text": [
      "('Mumbai', 'India', 'Winter', 24.8, 5.9)\n",
      "('Mumbai', 'India', 'Spring', 28.4, 16.2)\n",
      "('Mumbai', 'India', 'Summer', 27.9, 1549.4)\n",
      "('Mumbai', 'India', 'Fall', 27.6, 346.0)\n"
     ]
    }
   ],
   "source": [
    "cur.execute('SELECT * FROM db WHERE Country = \"India\"')\n",
    "\n",
    "for record in cur:\n",
    "    print(record)"
   ]
  },
  {
   "cell_type": "code",
   "execution_count": 49,
   "id": "b2441cb1-8e2f-4242-ba49-1b4aa08bd121",
   "metadata": {},
   "outputs": [
    {
     "name": "stdout",
     "output_type": "stream",
     "text": [
      "('Mumbai', 'India', 'Fall', 27.6, 346.0)\n",
      "('London', 'United Kingdom', 'Fall', 10.4, 218.5)\n",
      "('Cairo', 'Egypt', 'Fall', 22.2, 4.5)\n"
     ]
    }
   ],
   "source": [
    "cur.execute('SELECT * FROM db WHERE Season = \"Fall\"')\n",
    "\n",
    "for record in cur:\n",
    "    print(record)"
   ]
  },
  {
   "cell_type": "code",
   "execution_count": 50,
   "id": "e23b6ebf-4d3a-4c37-9bab-afaf8fb87a5c",
   "metadata": {},
   "outputs": [
    {
     "name": "stdout",
     "output_type": "stream",
     "text": [
      "('Mumbai', 'India', 'Fall')\n",
      "('London', 'United Kingdom', 'Winter')\n",
      "('London', 'United Kingdom', 'Fall')\n"
     ]
    }
   ],
   "source": [
    "cur.execute('SELECT City, Country, Season FROM db WHERE Rainfall BETWEEN 200 AND 400')\n",
    "\n",
    "for record in cur:\n",
    "    print(record)"
   ]
  },
  {
   "cell_type": "code",
   "execution_count": 51,
   "id": "ac7b1487-66a1-409f-9c52-56adf248438e",
   "metadata": {},
   "outputs": [
    {
     "name": "stdout",
     "output_type": "stream",
     "text": [
      "('Cairo', 'Egypt')\n",
      "('Mumbai', 'India')\n"
     ]
    }
   ],
   "source": [
    "cur.execute('SELECT City, Country FROM db WHERE Season = \"Fall\" AND Temperature > 20 ORDER BY Temperature')\n",
    "\n",
    "for record in cur:\n",
    "    print(record)"
   ]
  },
  {
   "cell_type": "code",
   "execution_count": 55,
   "id": "c2a38465-06b2-45bb-89f7-80db4386663e",
   "metadata": {},
   "outputs": [
    {
     "name": "stdout",
     "output_type": "stream",
     "text": [
      "(27.6,)\n"
     ]
    }
   ],
   "source": [
    "cur.execute('select SUM(Rainfall) from db where City=\"Cairo\"')\n",
    "for record in cur:\n",
    "    print(record)"
   ]
  },
  {
   "cell_type": "code",
   "execution_count": 56,
   "id": "04c74b00-7ab7-47c5-aa99-1eadb4f8c7b8",
   "metadata": {},
   "outputs": [
    {
     "name": "stdout",
     "output_type": "stream",
     "text": [
      "('Fall', 569.0)\n",
      "('Spring', 192.29999999999998)\n",
      "('Summer', 1706.5)\n",
      "('Winter', 230.1)\n"
     ]
    }
   ],
   "source": [
    "cur.execute('select Season,SUM(Rainfall) from db group by Season')\n",
    "for record in cur:\n",
    "    print(record)"
   ]
  },
  {
   "cell_type": "markdown",
   "id": "8574764f-e8df-4011-8196-e3fef4fe71aa",
   "metadata": {},
   "source": [
    "<h2> Question 9 </h2>\n",
    ". Suppose list words is defined as follows:\n",
    "\n",
    "```python\n",
    ">>> words = ['The', 'quick', 'brown', 'fox', 'jumps', 'over',\n",
    "'the', 'lazy', 'dog']\n",
    "```\n",
    "Write list comprehension expressions that use list words and generate the following\n",
    "lists:\n",
    "\n",
    "a) ['THE', 'QUICK', 'BROWN', 'FOX', 'JUMPS', 'OVER', 'THE',\n",
    "'LAZY', 'DOG'] <br>\n",
    "b) ['the', 'quick', 'brown', 'fox', 'jumps', 'over', 'the',\n",
    "'lazy', 'dog'] <br>\n",
    "c) [3, 5, 5, 3, 5, 4, 3, 4, 3] (the list of lengths of words in list\n",
    "words).<br>\n",
    "d) [['THE', 'the', 3], ['QUICK', 'quick', 5], ['BROWN',\n",
    "'brown', 5], ['FOX', 'fox', 3], ['JUMPS', 'jumps', 5],\n",
    "['OVER', 'over', 4], ['THE', 'the', 3], ['LAZY', 'lazy',\n",
    "4], ['DOG', 'dog', 3]] (the list containing a list for every word of list\n",
    "words, where each list contains the word in uppercase and lowercase and the\n",
    "length of the word.)<br>\n",
    "e) ['The', 'quick', 'brown', 'fox', 'jumps', 'over', 'the',\n",
    "'lazy', 'dog'] (the list of words in list words containing 4 or more\n",
    "characters.)"
   ]
  },
  {
   "cell_type": "code",
   "execution_count": 19,
   "id": "1a134e5c-3586-41c8-b369-3b41d91dfe7a",
   "metadata": {},
   "outputs": [],
   "source": [
    "words = ['The', 'quick', 'brown', 'fox', 'jumps', 'over', 'the', 'lazy', 'dog']"
   ]
  },
  {
   "cell_type": "code",
   "execution_count": 24,
   "id": "0aa96a03-1811-4695-926b-3c0d044b5abe",
   "metadata": {},
   "outputs": [
    {
     "name": "stdout",
     "output_type": "stream",
     "text": [
      "['THE', 'QUICK', 'BROWN', 'FOX', 'JUMPS', 'OVER', 'THE', 'LAZY', 'DOG']\n"
     ]
    }
   ],
   "source": [
    "Upper = []\n",
    "for word in words:\n",
    "    Upper.append(word.upper())\n",
    "print(Upper)"
   ]
  },
  {
   "cell_type": "code",
   "execution_count": 25,
   "id": "61aac339-f1ee-4c4f-8579-71c5236902e8",
   "metadata": {},
   "outputs": [
    {
     "name": "stdout",
     "output_type": "stream",
     "text": [
      "['the', 'quick', 'brown', 'fox', 'jumps', 'over', 'the', 'lazy', 'dog']\n"
     ]
    }
   ],
   "source": [
    "lower = []\n",
    "for word in words:\n",
    "    lower.append(word.lower())\n",
    "print(lower)"
   ]
  },
  {
   "cell_type": "code",
   "execution_count": 27,
   "id": "dd0a2766-36ff-4d76-b54f-9f8e09d733d1",
   "metadata": {},
   "outputs": [
    {
     "name": "stdout",
     "output_type": "stream",
     "text": [
      "[3, 5, 5, 3, 5, 4, 3, 4, 3]\n"
     ]
    }
   ],
   "source": [
    "count=[]\n",
    "for word in words:\n",
    "    count.append(len(word))\n",
    "print(count)"
   ]
  },
  {
   "cell_type": "code",
   "execution_count": 31,
   "id": "282b99f8-312a-4e38-b1ef-713092e5a199",
   "metadata": {},
   "outputs": [
    {
     "name": "stdout",
     "output_type": "stream",
     "text": [
      "[['THE', 'the', 3], ['QUICK', 'quick', 5], ['BROWN', 'brown', 5], ['FOX', 'fox', 3], ['JUMPS', 'jumps', 5], ['OVER', 'over', 4], ['THE', 'the', 3], ['LAZY', 'lazy', 4], ['DOG', 'dog', 3]]\n"
     ]
    }
   ],
   "source": [
    "Combined = []\n",
    "for word in words:\n",
    "    three = []\n",
    "    three.append(word.upper())\n",
    "    three.append(word.lower())\n",
    "    three.append(len(word))\n",
    "    Combined.append(three)\n",
    "print(Combined)"
   ]
  },
  {
   "cell_type": "code",
   "execution_count": 29,
   "id": "19bb54eb-8ff4-4a49-bdb3-5a203c2a2cdd",
   "metadata": {},
   "outputs": [
    {
     "name": "stdout",
     "output_type": "stream",
     "text": [
      "['quick', 'brown', 'jumps', 'over', 'lazy']\n"
     ]
    }
   ],
   "source": [
    "fourc = []\n",
    "for word in words:\n",
    "    if len(word) >3:\n",
    "        fourc.append(word)\n",
    "print(fourc)"
   ]
  }
 ],
 "metadata": {
  "kernelspec": {
   "display_name": "Python 3 (ipykernel)",
   "language": "python",
   "name": "python3"
  },
  "language_info": {
   "codemirror_mode": {
    "name": "ipython",
    "version": 3
   },
   "file_extension": ".py",
   "mimetype": "text/x-python",
   "name": "python",
   "nbconvert_exporter": "python",
   "pygments_lexer": "ipython3",
   "version": "3.9.7"
  }
 },
 "nbformat": 4,
 "nbformat_minor": 5
}
